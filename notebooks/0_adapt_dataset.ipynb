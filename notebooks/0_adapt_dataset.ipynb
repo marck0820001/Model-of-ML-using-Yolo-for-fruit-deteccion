{
 "cells": [
  {
   "cell_type": "code",
   "execution_count": 1,
   "id": "67a7effa",
   "metadata": {},
   "outputs": [],
   "source": [
    "import os\n",
    "import random\n",
    "import shutil"
   ]
  },
  {
   "cell_type": "code",
   "execution_count": 2,
   "id": "fd9d48b2",
   "metadata": {},
   "outputs": [],
   "source": [
    "# Carpeta de origen\n",
    "source_images = \"C:/Users/marck/OneDrive/Documentos/Proyecto_ia/data/train/images\"\n",
    "source_labels = \"C:/Users/marck/OneDrive/Documentos/Proyecto_ia/data/train/labels\""
   ]
  },
  {
   "cell_type": "code",
   "execution_count": 3,
   "id": "9e70f0f0",
   "metadata": {},
   "outputs": [],
   "source": [
    "# Ratios de división\n",
    "train_ratio = 0.7\n",
    "val_ratio = 0.2\n",
    "test_ratio = 0.1"
   ]
  },
  {
   "cell_type": "code",
   "execution_count": 4,
   "id": "3895a230",
   "metadata": {},
   "outputs": [],
   "source": [
    "# Archivos de imagen\n",
    "all_images = [f for f in os.listdir(source_images) if f.endswith((\".jpg\", \".png\", \".jpeg\"))]\n",
    "random.shuffle(all_images)"
   ]
  },
  {
   "cell_type": "code",
   "execution_count": 5,
   "id": "e55d47d1",
   "metadata": {},
   "outputs": [],
   "source": [
    "# Cantidades por grupo\n",
    "total = len(all_images)\n",
    "train_end = int(total * train_ratio)\n",
    "val_end = train_end + int(total * val_ratio)"
   ]
  },
  {
   "cell_type": "code",
   "execution_count": 7,
   "id": "5927d15f",
   "metadata": {},
   "outputs": [
    {
     "name": "stdout",
     "output_type": "stream",
     "text": [
      "Total images: 2989\n"
     ]
    }
   ],
   "source": [
    "print(f\"Total images: {total}\")"
   ]
  },
  {
   "cell_type": "code",
   "execution_count": 6,
   "id": "f336a13f",
   "metadata": {},
   "outputs": [],
   "source": [
    "train_files = all_images[:train_end]\n",
    "val_files = all_images[train_end:val_end]\n",
    "test_files = all_images[val_end:]"
   ]
  },
  {
   "cell_type": "code",
   "execution_count": 8,
   "id": "b5b06e75",
   "metadata": {},
   "outputs": [],
   "source": [
    "# Definir estructura destino\n",
    "splits = {\n",
    "    \"train\": train_files,\n",
    "    \"val\": val_files,\n",
    "    \"test\": test_files\n",
    "}"
   ]
  },
  {
   "cell_type": "code",
   "execution_count": 9,
   "id": "bdeead16",
   "metadata": {},
   "outputs": [
    {
     "name": "stdout",
     "output_type": "stream",
     "text": [
      "✅ ¡División completa y estructura creada correctamente!\n"
     ]
    }
   ],
   "source": [
    "for split, files in splits.items():\n",
    "    images_dir = os.path.join(split, \"images\")\n",
    "    labels_dir = os.path.join(split, \"labels\")\n",
    "    os.makedirs(images_dir, exist_ok=True)\n",
    "    os.makedirs(labels_dir, exist_ok=True)\n",
    "\n",
    "    for file in files:\n",
    "        image_src = os.path.join(source_images, file)\n",
    "        label_src = os.path.join(source_labels, os.path.splitext(file)[0] + \".txt\")\n",
    "\n",
    "        image_dst = os.path.join(images_dir, file)\n",
    "        label_dst = os.path.join(labels_dir, os.path.splitext(file)[0] + \".txt\")\n",
    "\n",
    "        if os.path.exists(label_src):\n",
    "            shutil.copy(image_src, image_dst)\n",
    "            shutil.copy(label_src, label_dst)\n",
    "        else:\n",
    "            print(f\"⚠️ El label de {file} no se encontró, se omite.\")\n",
    "\n",
    "print(\"✅ ¡División completa y estructura creada correctamente!\")\n"
   ]
  },
  {
   "cell_type": "code",
   "execution_count": null,
   "id": "c2190337",
   "metadata": {},
   "outputs": [],
   "source": []
  }
 ],
 "metadata": {
  "kernelspec": {
   "display_name": "Python 3",
   "language": "python",
   "name": "python3"
  },
  "language_info": {
   "codemirror_mode": {
    "name": "ipython",
    "version": 3
   },
   "file_extension": ".py",
   "mimetype": "text/x-python",
   "name": "python",
   "nbconvert_exporter": "python",
   "pygments_lexer": "ipython3",
   "version": "3.11.9"
  }
 },
 "nbformat": 4,
 "nbformat_minor": 5
}
